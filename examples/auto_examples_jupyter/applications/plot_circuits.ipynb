{
  "cells": [
    {
      "cell_type": "code",
      "execution_count": null,
      "metadata": {
        "collapsed": false
      },
      "outputs": [],
      "source": [
        "%matplotlib inline"
      ]
    },
    {
      "cell_type": "markdown",
      "metadata": {},
      "source": [
        "\n# Circuits\n\n\nConvert a Boolean circuit to an equivalent Boolean formula.\n\nA Boolean circuit can be exponentially more expressive than an\nequivalent formula in the worst case, since the circuit can reuse\nsubcircuits multiple times, whereas a formula cannot reuse subformulas\nmore than once. Thus creating a Boolean formula from a Boolean circuit\nin this way may be infeasible if the circuit is large.\n"
      ]
    },
    {
      "cell_type": "code",
      "execution_count": null,
      "metadata": {
        "collapsed": false
      },
      "outputs": [],
      "source": [
        "from networkx import dag_to_branching\nfrom networkx import DiGraph\nfrom networkx.utils import arbitrary_element\n\n\ndef circuit_to_formula(circuit):\n    # Convert the circuit to an equivalent formula.\n    formula = dag_to_branching(circuit)\n    # Transfer the operator or variable labels for each node from the\n    # circuit to the formula.\n    for v in formula:\n        source = formula.nodes[v]['source']\n        formula.nodes[v]['label'] = circuit.nodes[source]['label']\n    return formula\n\n\ndef formula_to_string(formula):\n\n    def _to_string(formula, root):\n        # If there are no children, this is a variable node.\n        label = formula.nodes[root]['label']\n        if not formula[root]:\n            return label\n        # Otherwise, this is an operator.\n        children = formula[root]\n        # If one child, the label must be a NOT operator.\n        if len(children) == 1:\n            child = arbitrary_element(children)\n            return '{}({})'.format(label, _to_string(formula, child))\n        # NB \"left\" and \"right\" here are a little misleading: there is\n        # no order on the children of a node. That's okay because the\n        # Boolean AND and OR operators are symmetric. It just means that\n        # the order of the operands cannot be predicted and hence the\n        # function does not necessarily behave the same way on every\n        # invocation.\n        left, right = formula[root]\n        left_subformula = _to_string(formula, left)\n        right_subformula = _to_string(formula, right)\n        return '({} {} {})'.format(left_subformula, label, right_subformula)\n\n    root = next(v for v, d in formula.in_degree() if d == 0)\n    return _to_string(formula, root)\n\n\ndef main():\n    # Create an example Boolean circuit.\n    #\n    # This circuit has a \u2227 at the output and two \u2228s at the next layer.\n    # The third layer has a variable x that appears in the left \u2228, a\n    # variable y that appears in both the left and right \u2228s, and a\n    # negation for the variable z that appears as the sole node in the\n    # fourth layer.\n    circuit = DiGraph()\n    # Layer 0\n    circuit.add_node(0, label='\u2227')\n    # Layer 1\n    circuit.add_node(1, label='\u2228')\n    circuit.add_node(2, label='\u2228')\n    circuit.add_edge(0, 1)\n    circuit.add_edge(0, 2)\n    # Layer 2\n    circuit.add_node(3, label='x')\n    circuit.add_node(4, label='y')\n    circuit.add_node(5, label='\u00ac')\n    circuit.add_edge(1, 3)\n    circuit.add_edge(1, 4)\n    circuit.add_edge(2, 4)\n    circuit.add_edge(2, 5)\n    # Layer 3\n    circuit.add_node(6, label='z')\n    circuit.add_edge(5, 6)\n    # Convert the circuit to an equivalent formula.\n    formula = circuit_to_formula(circuit)\n    print(formula_to_string(formula))\n\nif __name__ == '__main__':\n    main()"
      ]
    }
  ],
  "metadata": {
    "kernelspec": {
      "display_name": "Python 3",
      "language": "python",
      "name": "python3"
    },
    "language_info": {
      "codemirror_mode": {
        "name": "ipython",
        "version": 3
      },
      "file_extension": ".py",
      "mimetype": "text/x-python",
      "name": "python",
      "nbconvert_exporter": "python",
      "pygments_lexer": "ipython3",
      "version": "3.7.1"
    }
  },
  "nbformat": 4,
  "nbformat_minor": 0
}